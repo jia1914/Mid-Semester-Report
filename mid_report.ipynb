{
 "cells": [
  {
   "cell_type": "code",
   "execution_count": 143,
   "metadata": {},
   "outputs": [],
   "source": [
    "import pandas as pd\n",
    "import numpy as np\n",
    "import matplotlib.pyplot as plt\n",
    "%matplotlib inline"
   ]
  },
  {
   "cell_type": "markdown",
   "metadata": {},
   "source": [
    "***Read the file***"
   ]
  },
  {
   "cell_type": "code",
   "execution_count": 144,
   "metadata": {
    "scrolled": true
   },
   "outputs": [
    {
     "name": "stderr",
     "output_type": "stream",
     "text": [
      "C:\\Users\\tomis\\anaconda3\\lib\\site-packages\\IPython\\core\\interactiveshell.py:3146: DtypeWarning: Columns (4,6,8) have mixed types.Specify dtype option on import or set low_memory=False.\n",
      "  has_raised = await self.run_ast_nodes(code_ast.body, cell_name,\n"
     ]
    }
   ],
   "source": [
    "df = pd.read_csv(\"export2.csv\", sep=\",\")"
   ]
  },
  {
   "cell_type": "markdown",
   "metadata": {},
   "source": [
    "***Check for data types of all columns***"
   ]
  },
  {
   "cell_type": "code",
   "execution_count": 145,
   "metadata": {
    "scrolled": true
   },
   "outputs": [
    {
     "data": {
      "text/plain": [
       "PlanId                         object\n",
       "BusinessYear                    int64\n",
       "BenefitName                    object\n",
       "CoinsInnTier1                 float64\n",
       "CopayOutofNet                  object\n",
       "IsCovered                      object\n",
       "IsStateMandate                 object\n",
       "LimitQty                      float64\n",
       "LimitUnit                      object\n",
       "MinimumStay                   float64\n",
       "StateCode                      object\n",
       "Age                            object\n",
       "Tobacco                        object\n",
       "AvgOfIndividualRate           float64\n",
       "AvgOfIndividualTobaccoRate    float64\n",
       "AvgOfCouple                   float64\n",
       "dtype: object"
      ]
     },
     "execution_count": 145,
     "metadata": {},
     "output_type": "execute_result"
    }
   ],
   "source": [
    "df.dtypes"
   ]
  },
  {
   "cell_type": "markdown",
   "metadata": {},
   "source": [
    "**Find out all missing values**"
   ]
  },
  {
   "cell_type": "code",
   "execution_count": 146,
   "metadata": {},
   "outputs": [
    {
     "data": {
      "text/plain": [
       "PlanId                               0\n",
       "BusinessYear                         0\n",
       "BenefitName                          0\n",
       "CoinsInnTier1                  2773336\n",
       "CopayOutofNet                  2773382\n",
       "IsCovered                       579394\n",
       "IsStateMandate                 9244272\n",
       "LimitQty                       9475040\n",
       "LimitUnit                      9475040\n",
       "MinimumStay                   10643960\n",
       "StateCode                            0\n",
       "Age                                  0\n",
       "Tobacco                              0\n",
       "AvgOfIndividualRate                  0\n",
       "AvgOfIndividualTobaccoRate     1924614\n",
       "AvgOfCouple                   10676692\n",
       "dtype: int64"
      ]
     },
     "execution_count": 146,
     "metadata": {},
     "output_type": "execute_result"
    }
   ],
   "source": [
    "df.isna().sum()"
   ]
  },
  {
   "cell_type": "code",
   "execution_count": 147,
   "metadata": {
    "scrolled": true
   },
   "outputs": [
    {
     "data": {
      "text/html": [
       "<div>\n",
       "<style scoped>\n",
       "    .dataframe tbody tr th:only-of-type {\n",
       "        vertical-align: middle;\n",
       "    }\n",
       "\n",
       "    .dataframe tbody tr th {\n",
       "        vertical-align: top;\n",
       "    }\n",
       "\n",
       "    .dataframe thead th {\n",
       "        text-align: right;\n",
       "    }\n",
       "</style>\n",
       "<table border=\"1\" class=\"dataframe\">\n",
       "  <thead>\n",
       "    <tr style=\"text-align: right;\">\n",
       "      <th></th>\n",
       "      <th>PlanId</th>\n",
       "      <th>BusinessYear</th>\n",
       "      <th>BenefitName</th>\n",
       "      <th>CoinsInnTier1</th>\n",
       "      <th>CopayOutofNet</th>\n",
       "      <th>IsCovered</th>\n",
       "      <th>IsStateMandate</th>\n",
       "      <th>LimitQty</th>\n",
       "      <th>LimitUnit</th>\n",
       "      <th>MinimumStay</th>\n",
       "      <th>StateCode</th>\n",
       "      <th>Age</th>\n",
       "      <th>Tobacco</th>\n",
       "      <th>AvgOfIndividualRate</th>\n",
       "      <th>AvgOfIndividualTobaccoRate</th>\n",
       "      <th>AvgOfCouple</th>\n",
       "    </tr>\n",
       "  </thead>\n",
       "  <tbody>\n",
       "    <tr>\n",
       "      <th>0</th>\n",
       "      <td>26904AR0020004</td>\n",
       "      <td>2014</td>\n",
       "      <td>Dental Check-Up for Children</td>\n",
       "      <td>0.0</td>\n",
       "      <td>0</td>\n",
       "      <td>Covered</td>\n",
       "      <td>NaN</td>\n",
       "      <td>2.0</td>\n",
       "      <td>Visit(s) per Year</td>\n",
       "      <td>NaN</td>\n",
       "      <td>AR</td>\n",
       "      <td>Family Option</td>\n",
       "      <td>No Preference</td>\n",
       "      <td>36.36</td>\n",
       "      <td>NaN</td>\n",
       "      <td>72.72</td>\n",
       "    </tr>\n",
       "    <tr>\n",
       "      <th>1</th>\n",
       "      <td>26904AR0020004</td>\n",
       "      <td>2014</td>\n",
       "      <td>Basic Dental Care - Child</td>\n",
       "      <td>0.2</td>\n",
       "      <td>0</td>\n",
       "      <td>Covered</td>\n",
       "      <td>NaN</td>\n",
       "      <td>NaN</td>\n",
       "      <td>NaN</td>\n",
       "      <td>NaN</td>\n",
       "      <td>AR</td>\n",
       "      <td>Family Option</td>\n",
       "      <td>No Preference</td>\n",
       "      <td>36.36</td>\n",
       "      <td>NaN</td>\n",
       "      <td>72.72</td>\n",
       "    </tr>\n",
       "    <tr>\n",
       "      <th>2</th>\n",
       "      <td>26904AR0020004</td>\n",
       "      <td>2014</td>\n",
       "      <td>Orthodontia - Child</td>\n",
       "      <td>0.5</td>\n",
       "      <td>0</td>\n",
       "      <td>Covered</td>\n",
       "      <td>NaN</td>\n",
       "      <td>1.0</td>\n",
       "      <td>Treatment(s) per Lifetime</td>\n",
       "      <td>NaN</td>\n",
       "      <td>AR</td>\n",
       "      <td>Family Option</td>\n",
       "      <td>No Preference</td>\n",
       "      <td>36.36</td>\n",
       "      <td>NaN</td>\n",
       "      <td>72.72</td>\n",
       "    </tr>\n",
       "    <tr>\n",
       "      <th>3</th>\n",
       "      <td>26904AR0020004</td>\n",
       "      <td>2014</td>\n",
       "      <td>Major Dental Care - Child</td>\n",
       "      <td>0.5</td>\n",
       "      <td>0</td>\n",
       "      <td>Covered</td>\n",
       "      <td>NaN</td>\n",
       "      <td>NaN</td>\n",
       "      <td>NaN</td>\n",
       "      <td>NaN</td>\n",
       "      <td>AR</td>\n",
       "      <td>Family Option</td>\n",
       "      <td>No Preference</td>\n",
       "      <td>36.36</td>\n",
       "      <td>NaN</td>\n",
       "      <td>72.72</td>\n",
       "    </tr>\n",
       "    <tr>\n",
       "      <th>4</th>\n",
       "      <td>26904AR0020004</td>\n",
       "      <td>2014</td>\n",
       "      <td>Basic Dental Care - Adult</td>\n",
       "      <td>0.3</td>\n",
       "      <td>0</td>\n",
       "      <td>Covered</td>\n",
       "      <td>NaN</td>\n",
       "      <td>NaN</td>\n",
       "      <td>NaN</td>\n",
       "      <td>NaN</td>\n",
       "      <td>AR</td>\n",
       "      <td>Family Option</td>\n",
       "      <td>No Preference</td>\n",
       "      <td>36.36</td>\n",
       "      <td>NaN</td>\n",
       "      <td>72.72</td>\n",
       "    </tr>\n",
       "  </tbody>\n",
       "</table>\n",
       "</div>"
      ],
      "text/plain": [
       "           PlanId  BusinessYear                   BenefitName  CoinsInnTier1  \\\n",
       "0  26904AR0020004          2014  Dental Check-Up for Children            0.0   \n",
       "1  26904AR0020004          2014     Basic Dental Care - Child            0.2   \n",
       "2  26904AR0020004          2014           Orthodontia - Child            0.5   \n",
       "3  26904AR0020004          2014     Major Dental Care - Child            0.5   \n",
       "4  26904AR0020004          2014     Basic Dental Care - Adult            0.3   \n",
       "\n",
       "  CopayOutofNet IsCovered IsStateMandate  LimitQty                  LimitUnit  \\\n",
       "0             0   Covered            NaN       2.0          Visit(s) per Year   \n",
       "1             0   Covered            NaN       NaN                        NaN   \n",
       "2             0   Covered            NaN       1.0  Treatment(s) per Lifetime   \n",
       "3             0   Covered            NaN       NaN                        NaN   \n",
       "4             0   Covered            NaN       NaN                        NaN   \n",
       "\n",
       "   MinimumStay StateCode            Age        Tobacco  AvgOfIndividualRate  \\\n",
       "0          NaN        AR  Family Option  No Preference                36.36   \n",
       "1          NaN        AR  Family Option  No Preference                36.36   \n",
       "2          NaN        AR  Family Option  No Preference                36.36   \n",
       "3          NaN        AR  Family Option  No Preference                36.36   \n",
       "4          NaN        AR  Family Option  No Preference                36.36   \n",
       "\n",
       "   AvgOfIndividualTobaccoRate  AvgOfCouple  \n",
       "0                         NaN        72.72  \n",
       "1                         NaN        72.72  \n",
       "2                         NaN        72.72  \n",
       "3                         NaN        72.72  \n",
       "4                         NaN        72.72  "
      ]
     },
     "execution_count": 147,
     "metadata": {},
     "output_type": "execute_result"
    }
   ],
   "source": [
    "df.head()"
   ]
  },
  {
   "cell_type": "markdown",
   "metadata": {},
   "source": [
    "***Drop columns that not needed for further analysis***"
   ]
  },
  {
   "cell_type": "code",
   "execution_count": 148,
   "metadata": {},
   "outputs": [],
   "source": [
    "df.drop(columns=[\"IsCovered\",\"IsStateMandate\",\"LimitUnit\",\"MinimumStay\"], inplace=True)"
   ]
  },
  {
   "cell_type": "markdown",
   "metadata": {},
   "source": [
    "***Replace all missing values with median of the column***"
   ]
  },
  {
   "cell_type": "code",
   "execution_count": 149,
   "metadata": {},
   "outputs": [],
   "source": [
    "df['CoinsInnTier1'] = df['CoinsInnTier1'].fillna(df['CoinsInnTier1'].median())"
   ]
  },
  {
   "cell_type": "markdown",
   "metadata": {},
   "source": [
    "***Fix some format issues, replace them all and only keep numerical values***"
   ]
  },
  {
   "cell_type": "code",
   "execution_count": 150,
   "metadata": {},
   "outputs": [],
   "source": [
    "df['CopayOutofNet'] = df['CopayOutofNet'].str.replace(\"$\",\"\")\n",
    "df['CopayOutofNet'] = df['CopayOutofNet'].str.replace(\" Copay per Day\",\"\")\n",
    "df['CopayOutofNet'] = df['CopayOutofNet'].str.replace(\" Copay per Stay\",\"\")\n",
    "df['CopayOutofNet'] = df['CopayOutofNet'].str.replace(\" Copay before deductible\",\"\")\n",
    "df['CopayOutofNet'] = df['CopayOutofNet'].str.replace(\" Copay after deductible\",\"\")"
   ]
  },
  {
   "cell_type": "markdown",
   "metadata": {},
   "source": [
    "***Replace all missing values with median of the column***"
   ]
  },
  {
   "cell_type": "code",
   "execution_count": 151,
   "metadata": {},
   "outputs": [],
   "source": [
    "df['CopayOutofNet'] = df['CopayOutofNet'].fillna(df['CopayOutofNet'].median())"
   ]
  },
  {
   "cell_type": "markdown",
   "metadata": {},
   "source": [
    "***Convert to float***"
   ]
  },
  {
   "cell_type": "code",
   "execution_count": 152,
   "metadata": {},
   "outputs": [],
   "source": [
    "df['CopayOutofNet'] = df['CopayOutofNet'].astype(float)"
   ]
  },
  {
   "cell_type": "code",
   "execution_count": 153,
   "metadata": {},
   "outputs": [],
   "source": [
    "df['LimitQty'] = df['LimitQty'].fillna(df['LimitQty'].median())"
   ]
  },
  {
   "cell_type": "markdown",
   "metadata": {},
   "source": [
    "***Making new columns for age, because it has string value there***"
   ]
  },
  {
   "cell_type": "code",
   "execution_count": 154,
   "metadata": {},
   "outputs": [],
   "source": [
    "\n",
    "df['Age1'] = df['Age'].str.replace(\"0-20\",\"0\")\n",
    "df['Age1'] = df['Age1'].str.replace(\"65 and over\",\"0\")\n",
    "df['Age1'] = df['Age1'].str.replace(\"Family Option\",\"0\")\n",
    "df['Age2']=df['Age'] ==\"0-20\"\n",
    "df['Age3']=df['Age']==\"65 and over\"\n",
    "df['Age4'] = df[\"Age\"] == \"Family Option\""
   ]
  },
  {
   "cell_type": "markdown",
   "metadata": {},
   "source": [
    "***Counting input columns unique values***"
   ]
  },
  {
   "cell_type": "code",
   "execution_count": 155,
   "metadata": {},
   "outputs": [
    {
     "data": {
      "text/plain": [
       "1711"
      ]
     },
     "execution_count": 155,
     "metadata": {},
     "output_type": "execute_result"
    }
   ],
   "source": [
    "df[\"PlanId\"].nunique()"
   ]
  },
  {
   "cell_type": "code",
   "execution_count": 156,
   "metadata": {
    "scrolled": true
   },
   "outputs": [
    {
     "data": {
      "text/plain": [
       "230"
      ]
     },
     "execution_count": 156,
     "metadata": {},
     "output_type": "execute_result"
    }
   ],
   "source": [
    "df[\"BenefitName\"].nunique()"
   ]
  },
  {
   "cell_type": "code",
   "execution_count": 157,
   "metadata": {
    "scrolled": true
   },
   "outputs": [
    {
     "data": {
      "text/plain": [
       "13"
      ]
     },
     "execution_count": 157,
     "metadata": {},
     "output_type": "execute_result"
    }
   ],
   "source": [
    "df[\"StateCode\"].nunique()"
   ]
  },
  {
   "cell_type": "code",
   "execution_count": 158,
   "metadata": {
    "scrolled": false
   },
   "outputs": [
    {
     "data": {
      "text/plain": [
       "IL    2057254\n",
       "IA    1546734\n",
       "MI    1361832\n",
       "NE    1000628\n",
       "ID     897536\n",
       "AR     887330\n",
       "KS     715832\n",
       "NM     587170\n",
       "MT     515576\n",
       "ME     384966\n",
       "OH     339526\n",
       "DE     280584\n",
       "NH     103538\n",
       "Name: StateCode, dtype: int64"
      ]
     },
     "execution_count": 158,
     "metadata": {},
     "output_type": "execute_result"
    }
   ],
   "source": [
    "df[\"StateCode\"].value_counts()"
   ]
  },
  {
   "cell_type": "markdown",
   "metadata": {},
   "source": [
    "***Visualizations of the dataset***"
   ]
  },
  {
   "cell_type": "code",
   "execution_count": 166,
   "metadata": {},
   "outputs": [
    {
     "data": {
      "text/plain": [
       "<AxesSubplot:>"
      ]
     },
     "execution_count": 166,
     "metadata": {},
     "output_type": "execute_result"
    },
    {
     "data": {
      "image/png": "[encoded data removed]",
      "text/plain": [
       "<Figure size 1080x720 with 1 Axes>"
      ]
     },
     "metadata": {
      "needs_background": "light"
     },
     "output_type": "display_data"
    }
   ],
   "source": [
    "df['CoinsInnTier1'].value_counts().plot(kind='bar',figsize=(15, 10))"
   ]
  },
  {
   "cell_type": "code",
   "execution_count": 167,
   "metadata": {},
   "outputs": [
    {
     "data": {
      "text/plain": [
       "<AxesSubplot:>"
      ]
     },
     "execution_count": 167,
     "metadata": {},
     "output_type": "execute_result"
    },
    {
     "data": {
      "image/png": "[encoded data removed]",
      "text/plain": [
       "<Figure size 1080x720 with 1 Axes>"
      ]
     },
     "metadata": {
      "needs_background": "light"
     },
     "output_type": "display_data"
    }
   ],
   "source": [
    "df['CopayOutofNet'].value_counts().plot(kind='bar',figsize=(15, 10))"
   ]
  },
  {
   "cell_type": "code",
   "execution_count": 168,
   "metadata": {},
   "outputs": [
    {
     "data": {
      "text/plain": [
       "<AxesSubplot:>"
      ]
     },
     "execution_count": 168,
     "metadata": {},
     "output_type": "execute_result"
    },
    {
     "data": {
      "image/png": "[encoded data removed]",
      "text/plain": [
       "<Figure size 1080x720 with 1 Axes>"
      ]
     },
     "metadata": {
      "needs_background": "light"
     },
     "output_type": "display_data"
    }
   ],
   "source": [
    "df['Age'].value_counts().plot(kind='bar',figsize=(15, 10))"
   ]
  },
  {
   "cell_type": "code",
   "execution_count": 169,
   "metadata": {
    "scrolled": false
   },
   "outputs": [
    {
     "data": {
      "text/plain": [
       "<AxesSubplot:>"
      ]
     },
     "execution_count": 169,
     "metadata": {},
     "output_type": "execute_result"
    },
    {
     "data": {
      "image/png": "[encoded data removed]",
      "text/plain": [
       "<Figure size 1080x720 with 1 Axes>"
      ]
     },
     "metadata": {
      "needs_background": "light"
     },
     "output_type": "display_data"
    }
   ],
   "source": [
    "df['StateCode'].value_counts().plot(kind='bar',figsize=(15, 10))"
   ]
  },
  {
   "cell_type": "code",
   "execution_count": 163,
   "metadata": {
    "scrolled": false
   },
   "outputs": [
    {
     "data": {
      "text/plain": [
       "PlanId                               0\n",
       "BusinessYear                         0\n",
       "BenefitName                          0\n",
       "CoinsInnTier1                        0\n",
       "CopayOutofNet                        0\n",
       "LimitQty                             0\n",
       "StateCode                            0\n",
       "Age                                  0\n",
       "Tobacco                              0\n",
       "AvgOfIndividualRate                  0\n",
       "AvgOfIndividualTobaccoRate     1924614\n",
       "AvgOfCouple                   10676692\n",
       "Age1                                 0\n",
       "Age2                                 0\n",
       "Age3                                 0\n",
       "Age4                                 0\n",
       "dtype: int64"
      ]
     },
     "execution_count": 163,
     "metadata": {},
     "output_type": "execute_result"
    }
   ],
   "source": [
    "df.isna().sum()"
   ]
  }
 ],
 "metadata": {
  "kernelspec": {
   "display_name": "Python 3",
   "language": "python",
   "name": "python3"
  },
  "language_info": {
   "codemirror_mode": {
    "name": "ipython",
    "version": 3
   },
   "file_extension": ".py",
   "mimetype": "text/x-python",
   "name": "python",
   "nbconvert_exporter": "python",
   "pygments_lexer": "ipython3",
   "version": "3.8.5"
  }
 },
 "nbformat": 4,
 "nbformat_minor": 4
}
